{
 "cells": [
  {
   "cell_type": "markdown",
   "metadata": {},
   "source": [
    "# Diagrama Influencia Reactor"
   ]
  },
  {
   "cell_type": "markdown",
   "metadata": {},
   "source": [
    " Una eléctrica debe decidir (D2) si construye un reactor de diseño convencional (c) o de diseño avanzado (a). El reactor avanzado conlleva más riesgo pero, en caso de éxito, proporciona más beneficios. Los beneficios en unidades monetarias para c son 8, si no falla (ce) una vez construido (con probabilidad 0.98), y -4, si falla (cf) (0.02). \n",
    " \n",
    " Los beneficios para el avanzado son 12, si no falla (ae) (0.660), -6 si tiene un accidente de importancia leve (al) (0.244), y -10, si ocurre un accidente de importancia mayor (am) (.096). \n",
    " \n",
    " Antes de tomar esta decisión, la compañía puede realizar un test (D1 = t), con coste 1 UM, o no hacerlo (D1 = nt), sobre las componentes críticas del reactor de diseño avanzado, que reducirá la incertidumbre sobre el mismo. \n",
    " \n",
    " Los resultados del test (T) se pueden clasificar en malos (m), buenos (b) o excelentes (e) y están muy relacionados con el éxito o fracaso del reactor avanzado.  Si los resultados del test son malos, la opción avanzada no es viable y se construirá un reactor convencional."
   ]
  },
  {
   "cell_type": "markdown",
   "metadata": {},
   "source": [
    "Reproduce el siguiente Diagrama de Influencias (Red de Decisión)"
   ]
  },
  {
   "cell_type": "markdown",
   "metadata": {},
   "source": [
    "<img src=\"DI_Reactor_Grafo.png\" alt=\"Diagrama Influencia Reactor\" height=\"300\">"
   ]
  },
  {
   "cell_type": "code",
   "execution_count": null,
   "metadata": {},
   "outputs": [],
   "source": [
    "import numpy as np\n",
    "import pyAgrum as gum\n",
    "import pyAgrum.lib.notebook as gnb"
   ]
  },
  {
   "cell_type": "markdown",
   "metadata": {},
   "source": [
    "## Nodo A, C, T"
   ]
  },
  {
   "cell_type": "markdown",
   "metadata": {},
   "source": [
    "<img src=\"DI_Reactor_Informacion.png\" height=\"150\">"
   ]
  },
  {
   "cell_type": "code",
   "execution_count": null,
   "metadata": {},
   "outputs": [],
   "source": []
  },
  {
   "cell_type": "code",
   "execution_count": null,
   "metadata": {},
   "outputs": [],
   "source": []
  },
  {
   "cell_type": "code",
   "execution_count": null,
   "metadata": {},
   "outputs": [],
   "source": []
  },
  {
   "cell_type": "markdown",
   "metadata": {},
   "source": [
    "### Nodo Valor\n",
    "\n",
    "<img src=\"DI_Reactor_NodoValor.png\" height=\"300\">"
   ]
  },
  {
   "cell_type": "code",
   "execution_count": null,
   "metadata": {},
   "outputs": [],
   "source": []
  },
  {
   "cell_type": "markdown",
   "metadata": {},
   "source": [
    "## Inferencia"
   ]
  },
  {
   "cell_type": "code",
   "execution_count": null,
   "metadata": {},
   "outputs": [],
   "source": []
  }
 ],
 "metadata": {
  "kernelspec": {
   "display_name": "MGP",
   "language": "python",
   "name": "python3"
  },
  "language_info": {
   "codemirror_mode": {
    "name": "ipython",
    "version": 3
   },
   "file_extension": ".py",
   "mimetype": "text/x-python",
   "name": "python",
   "nbconvert_exporter": "python",
   "pygments_lexer": "ipython3",
   "version": "3.9.18"
  }
 },
 "nbformat": 4,
 "nbformat_minor": 2
}
