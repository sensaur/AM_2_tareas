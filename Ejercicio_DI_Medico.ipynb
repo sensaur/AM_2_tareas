{
 "cells": [
  {
   "cell_type": "markdown",
   "metadata": {
    "editable": true,
    "slideshow": {
     "slide_type": ""
    },
    "tags": []
   },
   "source": [
    "<img src=\"ETSE.png\" align=\"center\" width=\"6800\">\n",
    "<br><br><br>\n",
    "<font color=\"#CA3532\"><h1 align=\"left\">Diagramas de Influencia.</h1></font>\n",
    "<font color=\"#6E6E6E\"><h3 align=\"left\">Modelos gráficos probabilísticos. Máster Oficial Ciencia Datos. UV.</h2></font> \n",
    "\n",
    "Antonio J. Serrano "
   ]
  },
  {
   "cell_type": "markdown",
   "metadata": {},
   "source": [
    "https://agrum.gitlab.io/pages/pyagrum.html"
   ]
  },
  {
   "cell_type": "markdown",
   "metadata": {},
   "source": [
    "### Entorno MGP con conda (alternativa 1)\n",
    "\n",
    "conda create -n MGP python=3.9\n",
    "\n",
    "conda activate MGP \n",
    "\n",
    "conda install -c conda-forge pyagrum\n"
   ]
  },
  {
   "cell_type": "markdown",
   "metadata": {},
   "source": [
    "(en windows, seguramente hará falta https://graphviz.org/download/)"
   ]
  },
  {
   "cell_type": "markdown",
   "metadata": {},
   "source": [
    "### Entorno MGP con pip (alternativa 2)\n",
    "pip install pyagrum\n",
    "\n",
    "(instalar dependencias... pip install numpy scipy matplotlib pydotplus)"
   ]
  },
  {
   "cell_type": "markdown",
   "metadata": {},
   "source": [
    "### Utilizar Google Colab (alternativa 3)\n",
    "\n",
    "!pip install pyagrum"
   ]
  },
  {
   "cell_type": "code",
   "metadata": {
    "tags": [],
    "ExecuteTime": {
     "end_time": "2025-03-03T08:36:46.838673Z",
     "start_time": "2025-03-03T08:36:46.829453Z"
    }
   },
   "source": [
    "import numpy as np\n",
    "import pyAgrum as gum\n",
    "import pyAgrum.lib.notebook as gnb\n",
    "\n",
    "gum.config[\"influenceDiagram\",\"utility_show_stdev\"]=False\n",
    "#gum.config[\"influenceDiagram\",\"utility_shape\"] = \"diamond\"\n"
   ],
   "outputs": [],
   "execution_count": 2
  },
  {
   "cell_type": "markdown",
   "metadata": {},
   "source": [
    "# Ejemplo Médico 0. Sin posibilidad de acción.\n",
    "\n",
    "Si no hay posibilidad de dar antibiótico, entonces asumimos que es equivalente a la acción no dar antibiótico. Calculamos el valor esperado de la utilidad."
   ]
  },
  {
   "cell_type": "code",
   "metadata": {
    "ExecuteTime": {
     "end_time": "2025-03-03T08:37:51.561626Z",
     "start_time": "2025-03-03T08:37:51.555298Z"
    }
   },
   "source": [
    "prevalence=0.14\n",
    "U_X=[10,3]\n",
    "MEU=U_X[0]*(1-prevalence)+U_X[1]*prevalence\n",
    "MEU #valor esperado medio de la utilidad    "
   ],
   "outputs": [
    {
     "data": {
      "text/plain": [
       "9.02"
      ]
     },
     "execution_count": 3,
     "metadata": {},
     "output_type": "execute_result"
    }
   ],
   "execution_count": 3
  },
  {
   "cell_type": "markdown",
   "metadata": {},
   "source": [
    "# Ejemplo Médico 1. Decisiones en completa Incertidumbre (con riesgo y sin información).\n",
    "\n",
    "¿Es mejor dar antibiótico o no? Tenemos que tomar la decisión en base únicamente a la prevalencia de la enfermedad $P(X)$. ¿Por qué no hay un arco entre $X$ y $D$?\n",
    "\n",
    "<img src=\"EjemploMedico2.png\" width=\"50%\">"
   ]
  },
  {
   "cell_type": "markdown",
   "metadata": {},
   "source": [
    "Ejemplo de creación del diagrama de influencia.\n",
    "\n",
    "\"X->$U<-*D\"\n",
    "\n",
    "\"X{+x|-x}->$U<-*D{+d|-d}\" si queremos dar etiquetas a las variables\n",
    "\n",
    "**Grafo/dependencias**\n",
    "\n",
    "-   Añadimos relaciones con ->\n",
    "\n",
    "-   Con ; añadimos más dependencias\n",
    "\n",
    "**Tipos Nodos**\n",
    "\n",
    "-   Probabilísticos (redondos). Tendremos que especificar DI.cpt(\"X\")\n",
    "\n",
    "-   Decisión (cuadrados) con el símbolo *\n",
    "\n",
    "-   Utilidad (rombos) con el símbolo $. Tendremos que especificar DI.utility(\"U\")"
   ]
  },
  {
   "cell_type": "code",
   "execution_count": null,
   "metadata": {},
   "outputs": [],
   "source": [
    "#DI=gum.fastID(\"X{+x|-x}->$U<-*D{+d|-d}\")\n",
    "DI=gum.fastID(\"X->$U<-*D\")\n",
    "#print(DI)\n",
    "gnb.showInfluenceDiagram(DI) #muestra el diagrama"
   ]
  },
  {
   "cell_type": "markdown",
   "metadata": {},
   "source": [
    "Establecemos la probabilidad de la enfermedad $P(X)$ con DI.cpt(\"X\").fillWith()"
   ]
  },
  {
   "cell_type": "code",
   "execution_count": null,
   "metadata": {},
   "outputs": [],
   "source": [
    "prevalence=0.14\n",
    "#solucion \n"
   ]
  },
  {
   "cell_type": "markdown",
   "metadata": {},
   "source": [
    "Establecemos la utilidad de la enfermedad $U(X,D)$ con DI.utility(\"U\").fillWith()"
   ]
  },
  {
   "cell_type": "code",
   "execution_count": null,
   "metadata": {},
   "outputs": [],
   "source": [
    "#   +x=1 -x=0\n",
    "# +d=1  8  9\n",
    "# -d=0  3 10\n",
    "# DI.utility(\"U\")[0,0,:]=10\n",
    "# DI.utility(\"U\")[0,1,:]=3\n",
    "# DI.utility(\"U\")[1,0,:]=9\n",
    "# DI.utility(\"U\")[1,1,:]=8\n",
    "U_DX=[10,3,9,8]\n",
    "#solucion\n"
   ]
  },
  {
   "cell_type": "markdown",
   "metadata": {},
   "source": [
    "Utilzamos LIMID para resolver el diagrama de influencia, los resultados son los mismos que con el diagrama de influencia clasico.\n",
    "\n",
    "_This inference considers the provided model as a LIMID rather than an influence diagram. It is an optimized implementation of the LIMID resolution algorithm. However an inference on a classical influence diagram can be performed by adding a assumption of the existence of the sequence of decision nodes to be solved, which also implies that the decision choices can have an impact on the rest of the sequence._"
   ]
  },
  {
   "cell_type": "code",
   "execution_count": null,
   "metadata": {},
   "outputs": [],
   "source": [
    "ie=gum.ShaferShenoyLIMIDInference(DI)\n",
    "print(([list(DI.names())[i] for i in DI.topologicalOrder()]))\n",
    "gnb.flow.row(ie.reducedLIMID(),ie.reducedGraph(),ie.junctionTree())"
   ]
  },
  {
   "cell_type": "markdown",
   "metadata": {},
   "source": [
    "Inferenciamos (aunque no tenemos ningua evidencia)."
   ]
  },
  {
   "cell_type": "code",
   "execution_count": null,
   "metadata": {},
   "outputs": [],
   "source": [
    "ie.makeInference() #inplace"
   ]
  },
  {
   "cell_type": "markdown",
   "metadata": {},
   "source": [
    "Analizamos los resultados. Decisión óptima... "
   ]
  },
  {
   "cell_type": "code",
   "execution_count": null,
   "metadata": {},
   "outputs": [],
   "source": [
    "ie.optimalDecision(\"D\")"
   ]
  },
  {
   "cell_type": "markdown",
   "metadata": {},
   "source": [
    "Valor esperado de la utilidad de cada Decisión. "
   ]
  },
  {
   "cell_type": "code",
   "execution_count": null,
   "metadata": {},
   "outputs": [],
   "source": [
    "ie.posteriorUtility(\"D\")"
   ]
  },
  {
   "cell_type": "markdown",
   "metadata": {},
   "source": [
    "También podemos estudiar los nodos probabilísticos. "
   ]
  },
  {
   "cell_type": "code",
   "execution_count": null,
   "metadata": {},
   "outputs": [],
   "source": [
    "ie.posterior(\"X\")"
   ]
  },
  {
   "cell_type": "markdown",
   "metadata": {},
   "source": [
    "Finalmente el valor esperado medio de la utilidad. A este valor se le denomina Expected Value Without Information (EVwI) o similar."
   ]
  },
  {
   "cell_type": "code",
   "execution_count": null,
   "metadata": {},
   "outputs": [],
   "source": [
    "#EVwPI\n",
    "#solución\n"
   ]
  },
  {
   "cell_type": "markdown",
   "metadata": {},
   "source": [
    "Visualmente... "
   ]
  },
  {
   "cell_type": "code",
   "execution_count": null,
   "metadata": {},
   "outputs": [],
   "source": [
    "gnb.flow.row(ie.posterior(\"D\"),\n",
    "             ie.optimalDecision(\"D\"),\n",
    "             ie.posteriorUtility(\"D\"),\n",
    "             captions=['P(D|X)','Decisión Óptima','Valor de la decisión'])"
   ]
  },
  {
   "cell_type": "markdown",
   "metadata": {},
   "source": [
    "Con estos datos podemos representar el diagrama de influencia resuelto. Utilizamos la función row de la libreria pyAgrum `gnb.flow.row(,,,)`"
   ]
  },
  {
   "cell_type": "code",
   "execution_count": null,
   "metadata": {},
   "outputs": [],
   "source": [
    "gnb.flow.row(DI,gnb.getInference(DI)) "
   ]
  },
  {
   "cell_type": "markdown",
   "metadata": {},
   "source": [
    "# Ejemplo Médico 2. Decisiones con información perfecta (sin riesgo). \n",
    "\n",
    "¿Qué pasaría si fuéramos adivinos? Es decir, si dispusiéramos de la información perfecta. \n",
    "\n",
    "<img src=\"EjemploMedico1.png\" width=\"50%\">"
   ]
  },
  {
   "cell_type": "markdown",
   "metadata": {},
   "source": [
    "Crea el nuevo diagrama. ¿Cuál es la decisión óptima? ¿Es siempre la misma? ¿Con qué valor? "
   ]
  },
  {
   "cell_type": "code",
   "execution_count": null,
   "metadata": {},
   "outputs": [],
   "source": [
    "#solución\n"
   ]
  },
  {
   "cell_type": "markdown",
   "metadata": {},
   "source": [
    "Interpreta el diagrama de influencia resuelto. "
   ]
  },
  {
   "cell_type": "code",
   "execution_count": null,
   "metadata": {},
   "outputs": [],
   "source": [
    "gnb.flow.row(DI,gnb.getInference(DI)) "
   ]
  },
  {
   "cell_type": "markdown",
   "metadata": {},
   "source": [
    "Valor esperado de disponer de la información perfecta (EV|PI) "
   ]
  },
  {
   "cell_type": "code",
   "execution_count": null,
   "metadata": {},
   "outputs": [],
   "source": [
    "#EV_PI\n",
    "#solucion\n"
   ]
  },
  {
   "cell_type": "markdown",
   "metadata": {},
   "source": [
    "Expected Value of Perfect Information (EVPI)=EVPI=EV_PI-EVwI. Interpretación del EVPI\n",
    "- Si EVPI es alto → La incertidumbre tiene un gran impacto en la decisión y obtener información adicional es muy valioso.\n",
    "- Si EVPI es bajo → La mejor decisión es relativamente clara incluso sin información perfecta.\n",
    "- Si EVPI es cero → Tener información adicional no cambia la decisión óptima."
   ]
  },
  {
   "cell_type": "code",
   "execution_count": null,
   "metadata": {},
   "outputs": [],
   "source": [
    "#EVPI\n",
    "#solucion \n"
   ]
  },
  {
   "cell_type": "markdown",
   "metadata": {},
   "source": [
    "# Ejemplo Médico 3. Decisiones con riesgo pero aportando información (normalmente por estimación). "
   ]
  },
  {
   "cell_type": "markdown",
   "metadata": {},
   "source": [
    "Hemos visto que disponer de información es bueno. ¿cómo la introducimos? Con un estimador (ej. modelo de aprendizaje máquina). \n",
    "\n",
    "<img src=\"EjemploMedico3.png\" width=\"50%\">"
   ]
  },
  {
   "cell_type": "markdown",
   "metadata": {},
   "source": [
    "Crea el diagrama de influencia, X y U. "
   ]
  },
  {
   "cell_type": "code",
   "execution_count": null,
   "metadata": {},
   "outputs": [],
   "source": [
    "#solucion\n"
   ]
  },
  {
   "cell_type": "markdown",
   "metadata": {},
   "source": [
    "Introduce la CPT del nodo Y sabiendo que la prueba tiene una Sensibilidad de 0.91 y un Especificidad de 0.97. "
   ]
  },
  {
   "cell_type": "code",
   "execution_count": null,
   "metadata": {},
   "outputs": [],
   "source": [
    "se=0.91\n",
    "sp=0.97\n",
    "#solución\n"
   ]
  },
  {
   "cell_type": "markdown",
   "metadata": {},
   "source": [
    "Resuelve e interpreta el diagrama de influencia."
   ]
  },
  {
   "cell_type": "code",
   "execution_count": null,
   "metadata": {},
   "outputs": [],
   "source": [
    "ie=gum.ShaferShenoyLIMIDInference(DI)\n",
    "ie.makeInference()\n",
    "gnb.flow.row(DI,gnb.getInference(DI)) "
   ]
  },
  {
   "cell_type": "markdown",
   "metadata": {},
   "source": [
    "Determina la probabilidad de Y=1 sabiendo que X=0. Para introducir evicencias se utiliza el método setEvidence ie.setEvidence({'X':0}). ¿Cuál es el valor esperado? ¿Cómo puede ser mayor que el EV_PI?"
   ]
  },
  {
   "cell_type": "code",
   "execution_count": null,
   "metadata": {},
   "outputs": [],
   "source": [
    "#solución\n"
   ]
  },
  {
   "cell_type": "markdown",
   "metadata": {},
   "source": [
    "Observa cómo cambia la decisión óptima cuando Y=1 y Y=0."
   ]
  },
  {
   "cell_type": "code",
   "execution_count": null,
   "metadata": {},
   "outputs": [],
   "source": [
    "#solución\n"
   ]
  },
  {
   "cell_type": "markdown",
   "metadata": {},
   "source": [
    "# Ejemplo Médico 4. Decisiones con riesgo pero aportando información y pagando por ella (coste de la estimación)."
   ]
  },
  {
   "cell_type": "markdown",
   "metadata": {},
   "source": [
    "Nota: \n",
    "\n",
    "Para indicar que no hay estimación de X a partir de Y se puede realizar de dos maneras:\n",
    "* Añadiendo una salida más a Y (ej. nr) para indicar que no hay respuesta [preferible]\n",
    "* Utilizando una distribución de probabilidad no informativa (en este caso 1/2) para que D no tenga información de X (el nodo Y marea X para que D no tenga información privilegiada)\n",
    "\n",
    "El arco de predecencia T->D no aporta nada en este ejercicio porque D recibe la información a través de Y"
   ]
  },
  {
   "cell_type": "code",
   "execution_count": null,
   "metadata": {},
   "outputs": [],
   "source": [
    "DI=gum.fastID(\"X{+x|-x}->$U<-*D{+d|-d};X->Y{+y|-y|nr}->*D;Y<-*T{+t|-t}->$U;*T->*D\")\n",
    "#DI=gum.fastID(\"X{+x|-x}->$U<-*D{+d|-d};X->Y{+y|-y|nr}->*D;Y<-*T{+t|-t}->$U\")\n",
    "#DI=gum.fastID(\"X[2]->$U<-*D[2];X->Y[3]->*D;Y<-*T[2]->$U;*T->*D\")\n",
    "gnb.showInfluenceDiagram(DI)\n",
    "#solución\n"
   ]
  },
  {
   "cell_type": "markdown",
   "metadata": {},
   "source": [
    "Valor Esperado de Test"
   ]
  },
  {
   "cell_type": "code",
   "execution_count": null,
   "metadata": {},
   "outputs": [],
   "source": []
  },
  {
   "cell_type": "markdown",
   "metadata": {},
   "source": [
    "Valor Esperado de Test y Resultado de la prueba Y"
   ]
  },
  {
   "cell_type": "code",
   "execution_count": null,
   "metadata": {},
   "outputs": [],
   "source": []
  }
 ],
 "metadata": {
  "hide_input": false,
  "kernelspec": {
   "display_name": "MGP",
   "language": "python",
   "name": "python3"
  },
  "language_info": {
   "codemirror_mode": {
    "name": "ipython",
    "version": 3
   },
   "file_extension": ".py",
   "mimetype": "text/x-python",
   "name": "python",
   "nbconvert_exporter": "python",
   "pygments_lexer": "ipython3",
   "version": "3.9.21"
  }
 },
 "nbformat": 4,
 "nbformat_minor": 4
}
